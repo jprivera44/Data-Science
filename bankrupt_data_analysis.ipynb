{
 "cells": [
  {
   "attachments": {},
   "cell_type": "markdown",
   "metadata": {},
   "source": [
    "# Bankrupt data analysis"
   ]
  },
  {
   "cell_type": "code",
   "execution_count": 6,
   "metadata": {},
   "outputs": [],
   "source": [
    "#this dataset is from kaggle and covers the analysis of \n",
    "#bankruptcy data of companies in Taiwan from 1999 to 2009"
   ]
  },
  {
   "cell_type": "code",
   "execution_count": 7,
   "metadata": {},
   "outputs": [],
   "source": [
    "import pandas as pd\n",
    "import lightgbm as lgb\n",
    "from sklearn.model_selection import train_test_split\n",
    "\n",
    "\n",
    "#show all columns\n",
    "pd.set_option('display.max_columns', None)"
   ]
  },
  {
   "cell_type": "code",
   "execution_count": 8,
   "metadata": {},
   "outputs": [],
   "source": [
    "#function to check on the data\n",
    "def check_data(df):\n",
    "    #check for null values\n",
    "    print(\"The number of null values is\",sum(df.isnull().sum()))\n",
    "\n",
    "    #check for duplicates\n",
    "    print(\"The number of duplicate values is\",df.duplicated().sum())\n",
    "\n",
    "    #check for data types\n",
    "    print(\"Checking on the data types\")\n",
    "    print(df.dtypes)\n",
    "\n",
    "    #check for unique values\n",
    "    print(\"Checking on the unique values\")\n",
    "    print(df.nunique())\n",
    "\n",
    "    #check for the shape of the data\n",
    "    print(\"The shape of the data is\")\n",
    "    print(df.shape)\n"
   ]
  },
  {
   "cell_type": "code",
   "execution_count": 9,
   "metadata": {},
   "outputs": [],
   "source": [
    "#function to select the best features\n",
    "\n",
    "def feature_importance(df):\n",
    "    #split data into train and test\n",
    "    \n",
    "    train, test = train_test_split(df, test_size=0.2, random_state=42)\n",
    "\n",
    "    #split the train and test data into X and Y\n",
    "    X_train = train.drop('Bankrupt?', axis=1)\n",
    "    y_train = train['Bankrupt?']\n",
    "    X_test = test.drop('Bankrupt?', axis=1)\n",
    "    y_test = test['Bankrupt?']\n",
    "\n",
    "    model = lgb.LGBMRegressor(random_state=42)\n",
    "    model.fit(X_train, y_train)\n",
    "\n",
    "    #plot feature importance\n",
    "    lgb.plot_importance(model, max_num_features=10, height=0.8, figsize=(10, 10))\n",
    "\n",
    "    "
   ]
  },
  {
   "cell_type": "code",
   "execution_count": 10,
   "metadata": {},
   "outputs": [
    {
     "name": "stdout",
     "output_type": "stream",
     "text": [
      "The number of null values is 0\n",
      "The number of duplicate values is 0\n",
      "Checking on the data types\n",
      "Bankrupt?                                                     int64\n",
      " ROA(C) before interest and depreciation before interest    float64\n",
      " ROA(A) before interest and % after tax                     float64\n",
      " ROA(B) before interest and depreciation after tax          float64\n",
      " Operating Gross Margin                                     float64\n",
      "                                                             ...   \n",
      " Liability to Equity                                        float64\n",
      " Degree of Financial Leverage (DFL)                         float64\n",
      " Interest Coverage Ratio (Interest expense to EBIT)         float64\n",
      " Net Income Flag                                              int64\n",
      " Equity to Liability                                        float64\n",
      "Length: 96, dtype: object\n",
      "Checking on the unique values\n",
      "Bankrupt?                                                      2\n",
      " ROA(C) before interest and depreciation before interest    3333\n",
      " ROA(A) before interest and % after tax                     3151\n",
      " ROA(B) before interest and depreciation after tax          3160\n",
      " Operating Gross Margin                                     3781\n",
      "                                                            ... \n",
      " Liability to Equity                                        6819\n",
      " Degree of Financial Leverage (DFL)                         6240\n",
      " Interest Coverage Ratio (Interest expense to EBIT)         6240\n",
      " Net Income Flag                                               1\n",
      " Equity to Liability                                        6819\n",
      "Length: 96, dtype: int64\n",
      "The shape of the data is\n",
      "(6819, 96)\n"
     ]
    }
   ],
   "source": [
    "#getting the data\n",
    "df_dataset = pd.read_csv('datasets/bankrupt_data/bankrupt_data.csv')\n",
    "\n",
    "df_dataset.head()\n",
    "\n",
    "#call the function to check the data\n",
    "check_data(df_dataset)\n"
   ]
  },
  {
   "cell_type": "code",
   "execution_count": 11,
   "metadata": {},
   "outputs": [],
   "source": [
    "#call the function for feature engineering\n",
    "#df_dataset = feature_importance(df_dataset)\n"
   ]
  },
  {
   "cell_type": "code",
   "execution_count": 12,
   "metadata": {},
   "outputs": [],
   "source": [
    "train, test = train_test_split(df_dataset, test_size=0.2, random_state=42)\n",
    "\n",
    "#split the train and test data into X and Y\n",
    "X_train = train.drop('Bankrupt?', axis=1)\n",
    "y_train = train['Bankrupt?']\n",
    "X_test = test.drop('Bankrupt?', axis=1)\n",
    "y_test = test['Bankrupt?']\n",
    "\n"
   ]
  },
  {
   "cell_type": "code",
   "execution_count": 13,
   "metadata": {},
   "outputs": [
    {
     "data": {
      "text/plain": [
       "3759    0\n",
       "1782    0\n",
       "5013    0\n",
       "5412    0\n",
       "3066    0\n",
       "Name: Bankrupt?, dtype: int64"
      ]
     },
     "execution_count": 13,
     "metadata": {},
     "output_type": "execute_result"
    }
   ],
   "source": [
    "y_train.head()"
   ]
  },
  {
   "cell_type": "code",
   "execution_count": 14,
   "metadata": {},
   "outputs": [
    {
     "name": "stdout",
     "output_type": "stream",
     "text": [
      "Requirement already satisfied: xgboost in /usr/local/lib/python3.9/site-packages (1.7.2)\n",
      "Requirement already satisfied: numpy in /usr/local/lib/python3.9/site-packages (from xgboost) (1.19.5)\n",
      "Requirement already satisfied: scipy in /usr/local/lib/python3.9/site-packages (from xgboost) (1.6.2)\n",
      "\n",
      "\u001b[1m[\u001b[0m\u001b[34;49mnotice\u001b[0m\u001b[1;39;49m]\u001b[0m\u001b[39;49m A new release of pip available: \u001b[0m\u001b[31;49m22.2.1\u001b[0m\u001b[39;49m -> \u001b[0m\u001b[32;49m22.3.1\u001b[0m\n",
      "\u001b[1m[\u001b[0m\u001b[34;49mnotice\u001b[0m\u001b[1;39;49m]\u001b[0m\u001b[39;49m To update, run: \u001b[0m\u001b[32;49mpython3.9 -m pip install --upgrade pip\u001b[0m\n"
     ]
    }
   ],
   "source": [
    "!pip3 install xgboost"
   ]
  },
  {
   "cell_type": "code",
   "execution_count": 15,
   "metadata": {},
   "outputs": [],
   "source": [
    "from xgboost import XGBRegressor\n",
    "\n",
    "\n"
   ]
  },
  {
   "cell_type": "code",
   "execution_count": 16,
   "metadata": {},
   "outputs": [
    {
     "data": {
      "text/plain": [
       "XGBRegressor(base_score=0.5, booster='gbtree', callbacks=None,\n",
       "             colsample_bylevel=1, colsample_bynode=1, colsample_bytree=1,\n",
       "             early_stopping_rounds=None, enable_categorical=False,\n",
       "             eval_metric=None, feature_types=None, gamma=0, gpu_id=-1,\n",
       "             grow_policy='depthwise', importance_type=None,\n",
       "             interaction_constraints='', learning_rate=0.300000012, max_bin=256,\n",
       "             max_cat_threshold=64, max_cat_to_onehot=4, max_delta_step=0,\n",
       "             max_depth=6, max_leaves=0, min_child_weight=1, missing=nan,\n",
       "             monotone_constraints='()', n_estimators=42, n_jobs=0,\n",
       "             num_parallel_tree=1, predictor='auto', random_state=0, ...)"
      ]
     },
     "execution_count": 16,
     "metadata": {},
     "output_type": "execute_result"
    }
   ],
   "source": [
    "xgb = XGBRegressor(n_estimators=42)\n",
    "\n",
    "xgb.fit(X_train, y_train)"
   ]
  },
  {
   "cell_type": "code",
   "execution_count": null,
   "metadata": {},
   "outputs": [],
   "source": []
  },
  {
   "cell_type": "code",
   "execution_count": 17,
   "metadata": {},
   "outputs": [],
   "source": [
    "#END"
   ]
  }
 ],
 "metadata": {
  "kernelspec": {
   "display_name": "Python 3",
   "language": "python",
   "name": "python3"
  },
  "language_info": {
   "codemirror_mode": {
    "name": "ipython",
    "version": 3
   },
   "file_extension": ".py",
   "mimetype": "text/x-python",
   "name": "python",
   "nbconvert_exporter": "python",
   "pygments_lexer": "ipython3",
   "version": "3.9.4"
  },
  "orig_nbformat": 4,
  "vscode": {
   "interpreter": {
    "hash": "aee8b7b246df8f9039afb4144a1f6fd8d2ca17a180786b69acc140d282b71a49"
   }
  }
 },
 "nbformat": 4,
 "nbformat_minor": 2
}
